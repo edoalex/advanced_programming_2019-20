{
 "cells": [
  {
   "cell_type": "code",
   "execution_count": 6,
   "metadata": {},
   "outputs": [],
   "source": [
    "def is_palindrome(string_var):     \n",
    "    '''\n",
    "    returns True if string_var is palindrome, False otherwise\n",
    "    '''\n",
    "    ret = False\n",
    "    l = len(string_var)\n",
    "    \n",
    "    for i in range(l):\n",
    "        if(string_var[i] != string_var[l-1-i]):\n",
    "             break\n",
    "                \n",
    "    if(i == l-1):\n",
    "        ret = True    \n",
    "    return ret "
   ]
  },
  {
   "cell_type": "code",
   "execution_count": 24,
   "metadata": {},
   "outputs": [],
   "source": [
    "def histogram_letters(string_var):     \n",
    "    '''\n",
    "    count how many times a letter is present in the string_var\n",
    "    and returns a dict\n",
    "\n",
    "    '''\n",
    "    dic = {}\n",
    "    for l in string_var:\n",
    "        if(dic.get(l) == None):\n",
    "            dic[l] = 1\n",
    "        else:\n",
    "            dic[l] += 1\n",
    "    return dic "
   ]
  },
  {
   "cell_type": "code",
   "execution_count": 28,
   "metadata": {},
   "outputs": [],
   "source": [
    "def get_most_frequent(list_var):\n",
    "    '''\n",
    "    returns a tuple with the most frequent object in the list with the \n",
    "    corresponding number\n",
    "    '''\n",
    "    freq = []\n",
    "    elements = []\n",
    "    for el in list_var:\n",
    "        if(el in elements):\n",
    "            i = elements.index(el)\n",
    "            freq[i] += 1\n",
    "        else:\n",
    "            elements.append(el)\n",
    "            freq.append(1)\n",
    "    # find maximum of freq in a naive way\n",
    "    max_i = 0\n",
    "    max_f = 0\n",
    "    for i in range(len(freq)):\n",
    "        if(freq[i] > max_f):\n",
    "            max_f = freq[i]\n",
    "            max_i = i\n",
    "    \n",
    "    return (elements[max_i], freq[max_i])"
   ]
  },
  {
   "cell_type": "code",
   "execution_count": 33,
   "metadata": {},
   "outputs": [],
   "source": [
    "def which_duplicates(list_var):\n",
    "    '''\n",
    "    return a dict with containing the repeated object and the number of repetitions\n",
    "    '''\n",
    "    dic = {}\n",
    "    for el in list_var:\n",
    "        if(dic.get(el) == None):\n",
    "            dic[el] = 1\n",
    "        else:\n",
    "            dic[el] += 1\n",
    "    return dic "
   ]
  },
  {
   "cell_type": "code",
   "execution_count": 37,
   "metadata": {},
   "outputs": [],
   "source": [
    "def compute_factorial(int_val):\n",
    "    '''\n",
    "    returns factorial of a number\n",
    "    '''\n",
    "    if int_val < 2:\n",
    "        return 1\n",
    "    else:\n",
    "        return compute_factorial(int_val - 1) * int_val"
   ]
  },
  {
   "cell_type": "code",
   "execution_count": 68,
   "metadata": {},
   "outputs": [],
   "source": [
    "def is_prime(int_val):\n",
    "    '''\n",
    "    returns True if int_val is prime, False otherwise\n",
    "    '''\n",
    "    assert(int_val > 0)\n",
    "    \n",
    "    for divider in range(2, int_val):\n",
    "        if(int_val % divider == 0):\n",
    "            return False\n",
    "    return True\n"
   ]
  }
 ],
 "metadata": {
  "kernelspec": {
   "display_name": "Python 3",
   "language": "python",
   "name": "python3"
  },
  "language_info": {
   "codemirror_mode": {
    "name": "ipython",
    "version": 3
   },
   "file_extension": ".py",
   "mimetype": "text/x-python",
   "name": "python",
   "nbconvert_exporter": "python",
   "pygments_lexer": "ipython3",
   "version": "3.6.8"
  }
 },
 "nbformat": 4,
 "nbformat_minor": 2
}
